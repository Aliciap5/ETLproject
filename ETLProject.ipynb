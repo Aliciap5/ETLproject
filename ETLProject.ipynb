{
 "cells": [
  {
   "cell_type": "code",
   "execution_count": 1,
   "metadata": {},
   "outputs": [],
   "source": [
    "import pandas as pd"
   ]
  },
  {
   "cell_type": "code",
   "execution_count": 2,
   "metadata": {},
   "outputs": [],
   "source": [
    "data = pd.read_csv(\"Country GDP by year in USD 1960 to 2015.csv\")"
   ]
  },
  {
   "cell_type": "code",
   "execution_count": 3,
   "metadata": {},
   "outputs": [],
   "source": [
    "data = data.melt(col_level=0, id_vars=[\"Country Name\", \"Country Code\"])"
   ]
  },
  {
   "cell_type": "code",
   "execution_count": 4,
   "metadata": {},
   "outputs": [
    {
     "output_type": "execute_result",
     "data": {
      "text/plain": "           Country Name Country Code variable         value\n0                 Aruba          ABW     1960           NaN\n1               Andorra          AND     1960           NaN\n2           Afghanistan          AFG     1960  5.377778e+08\n3                Angola          AGO     1960           NaN\n4               Albania          ALB     1960           NaN\n...                 ...          ...      ...           ...\n14779       Yemen, Rep.          YEM     2015           NaN\n14780      South Africa          ZAF     2015  3.127980e+11\n14781  Congo, Dem. Rep.          COD     2015  3.523774e+10\n14782            Zambia          ZMB     2015  2.120156e+10\n14783          Zimbabwe          ZWE     2015  1.389294e+10\n\n[14784 rows x 4 columns]",
      "text/html": "<div>\n<style scoped>\n    .dataframe tbody tr th:only-of-type {\n        vertical-align: middle;\n    }\n\n    .dataframe tbody tr th {\n        vertical-align: top;\n    }\n\n    .dataframe thead th {\n        text-align: right;\n    }\n</style>\n<table border=\"1\" class=\"dataframe\">\n  <thead>\n    <tr style=\"text-align: right;\">\n      <th></th>\n      <th>Country Name</th>\n      <th>Country Code</th>\n      <th>variable</th>\n      <th>value</th>\n    </tr>\n  </thead>\n  <tbody>\n    <tr>\n      <th>0</th>\n      <td>Aruba</td>\n      <td>ABW</td>\n      <td>1960</td>\n      <td>NaN</td>\n    </tr>\n    <tr>\n      <th>1</th>\n      <td>Andorra</td>\n      <td>AND</td>\n      <td>1960</td>\n      <td>NaN</td>\n    </tr>\n    <tr>\n      <th>2</th>\n      <td>Afghanistan</td>\n      <td>AFG</td>\n      <td>1960</td>\n      <td>5.377778e+08</td>\n    </tr>\n    <tr>\n      <th>3</th>\n      <td>Angola</td>\n      <td>AGO</td>\n      <td>1960</td>\n      <td>NaN</td>\n    </tr>\n    <tr>\n      <th>4</th>\n      <td>Albania</td>\n      <td>ALB</td>\n      <td>1960</td>\n      <td>NaN</td>\n    </tr>\n    <tr>\n      <th>...</th>\n      <td>...</td>\n      <td>...</td>\n      <td>...</td>\n      <td>...</td>\n    </tr>\n    <tr>\n      <th>14779</th>\n      <td>Yemen, Rep.</td>\n      <td>YEM</td>\n      <td>2015</td>\n      <td>NaN</td>\n    </tr>\n    <tr>\n      <th>14780</th>\n      <td>South Africa</td>\n      <td>ZAF</td>\n      <td>2015</td>\n      <td>3.127980e+11</td>\n    </tr>\n    <tr>\n      <th>14781</th>\n      <td>Congo, Dem. Rep.</td>\n      <td>COD</td>\n      <td>2015</td>\n      <td>3.523774e+10</td>\n    </tr>\n    <tr>\n      <th>14782</th>\n      <td>Zambia</td>\n      <td>ZMB</td>\n      <td>2015</td>\n      <td>2.120156e+10</td>\n    </tr>\n    <tr>\n      <th>14783</th>\n      <td>Zimbabwe</td>\n      <td>ZWE</td>\n      <td>2015</td>\n      <td>1.389294e+10</td>\n    </tr>\n  </tbody>\n</table>\n<p>14784 rows × 4 columns</p>\n</div>"
     },
     "metadata": {},
     "execution_count": 4
    }
   ],
   "source": [
    "data"
   ]
  },
  {
   "cell_type": "code",
   "execution_count": 5,
   "metadata": {},
   "outputs": [],
   "source": [
    "data = data[data['value'].notna()]"
   ]
  },
  {
   "cell_type": "code",
   "execution_count": 6,
   "metadata": {},
   "outputs": [
    {
     "output_type": "execute_result",
     "data": {
      "text/plain": "           Country Name Country Code variable         value\n2           Afghanistan          AFG     1960  5.377778e+08\n11            Australia          AUS     1960  1.856759e+10\n12              Austria          AUT     1960  6.592694e+09\n14              Burundi          BDI     1960  1.960000e+08\n15              Belgium          BEL     1960  1.165872e+10\n...                 ...          ...      ...           ...\n14778             Samoa          WSM     2015  7.610379e+08\n14780      South Africa          ZAF     2015  3.127980e+11\n14781  Congo, Dem. Rep.          COD     2015  3.523774e+10\n14782            Zambia          ZMB     2015  2.120156e+10\n14783          Zimbabwe          ZWE     2015  1.389294e+10\n\n[11214 rows x 4 columns]",
      "text/html": "<div>\n<style scoped>\n    .dataframe tbody tr th:only-of-type {\n        vertical-align: middle;\n    }\n\n    .dataframe tbody tr th {\n        vertical-align: top;\n    }\n\n    .dataframe thead th {\n        text-align: right;\n    }\n</style>\n<table border=\"1\" class=\"dataframe\">\n  <thead>\n    <tr style=\"text-align: right;\">\n      <th></th>\n      <th>Country Name</th>\n      <th>Country Code</th>\n      <th>variable</th>\n      <th>value</th>\n    </tr>\n  </thead>\n  <tbody>\n    <tr>\n      <th>2</th>\n      <td>Afghanistan</td>\n      <td>AFG</td>\n      <td>1960</td>\n      <td>5.377778e+08</td>\n    </tr>\n    <tr>\n      <th>11</th>\n      <td>Australia</td>\n      <td>AUS</td>\n      <td>1960</td>\n      <td>1.856759e+10</td>\n    </tr>\n    <tr>\n      <th>12</th>\n      <td>Austria</td>\n      <td>AUT</td>\n      <td>1960</td>\n      <td>6.592694e+09</td>\n    </tr>\n    <tr>\n      <th>14</th>\n      <td>Burundi</td>\n      <td>BDI</td>\n      <td>1960</td>\n      <td>1.960000e+08</td>\n    </tr>\n    <tr>\n      <th>15</th>\n      <td>Belgium</td>\n      <td>BEL</td>\n      <td>1960</td>\n      <td>1.165872e+10</td>\n    </tr>\n    <tr>\n      <th>...</th>\n      <td>...</td>\n      <td>...</td>\n      <td>...</td>\n      <td>...</td>\n    </tr>\n    <tr>\n      <th>14778</th>\n      <td>Samoa</td>\n      <td>WSM</td>\n      <td>2015</td>\n      <td>7.610379e+08</td>\n    </tr>\n    <tr>\n      <th>14780</th>\n      <td>South Africa</td>\n      <td>ZAF</td>\n      <td>2015</td>\n      <td>3.127980e+11</td>\n    </tr>\n    <tr>\n      <th>14781</th>\n      <td>Congo, Dem. Rep.</td>\n      <td>COD</td>\n      <td>2015</td>\n      <td>3.523774e+10</td>\n    </tr>\n    <tr>\n      <th>14782</th>\n      <td>Zambia</td>\n      <td>ZMB</td>\n      <td>2015</td>\n      <td>2.120156e+10</td>\n    </tr>\n    <tr>\n      <th>14783</th>\n      <td>Zimbabwe</td>\n      <td>ZWE</td>\n      <td>2015</td>\n      <td>1.389294e+10</td>\n    </tr>\n  </tbody>\n</table>\n<p>11214 rows × 4 columns</p>\n</div>"
     },
     "metadata": {},
     "execution_count": 6
    }
   ],
   "source": [
    "data"
   ]
  },
  {
   "cell_type": "code",
   "execution_count": 11,
   "metadata": {},
   "outputs": [],
   "source": [
    "gdp = data"
   ]
  },
  {
   "cell_type": "code",
   "execution_count": 12,
   "metadata": {},
   "outputs": [],
   "source": [
    "csv = \"obesity-cleaned.csv\""
   ]
  },
  {
   "cell_type": "code",
   "execution_count": 13,
   "metadata": {},
   "outputs": [],
   "source": [
    "obesity_df = pd.read_csv(csv)"
   ]
  },
  {
   "cell_type": "code",
   "execution_count": 14,
   "metadata": {},
   "outputs": [
    {
     "output_type": "execute_result",
     "data": {
      "text/plain": "       Unnamed: 0      Country  Year       Obesity (%)         Sex\n0               0  Afghanistan  1975     0.5 [0.2-1.1]  Both sexes\n1               1  Afghanistan  1975     0.2 [0.0-0.6]        Male\n2               2  Afghanistan  1975     0.8 [0.2-2.0]      Female\n3               3  Afghanistan  1976     0.5 [0.2-1.1]  Both sexes\n4               4  Afghanistan  1976     0.2 [0.0-0.7]        Male\n...           ...          ...   ...               ...         ...\n24565       24565     Zimbabwe  2015     4.5 [2.4-7.6]        Male\n24566       24566     Zimbabwe  2015  24.8 [18.9-31.3]      Female\n24567       24567     Zimbabwe  2016  15.5 [12.0-19.2]  Both sexes\n24568       24568     Zimbabwe  2016     4.7 [2.5-8.0]        Male\n24569       24569     Zimbabwe  2016  25.3 [19.1-32.0]      Female\n\n[24570 rows x 5 columns]",
      "text/html": "<div>\n<style scoped>\n    .dataframe tbody tr th:only-of-type {\n        vertical-align: middle;\n    }\n\n    .dataframe tbody tr th {\n        vertical-align: top;\n    }\n\n    .dataframe thead th {\n        text-align: right;\n    }\n</style>\n<table border=\"1\" class=\"dataframe\">\n  <thead>\n    <tr style=\"text-align: right;\">\n      <th></th>\n      <th>Unnamed: 0</th>\n      <th>Country</th>\n      <th>Year</th>\n      <th>Obesity (%)</th>\n      <th>Sex</th>\n    </tr>\n  </thead>\n  <tbody>\n    <tr>\n      <th>0</th>\n      <td>0</td>\n      <td>Afghanistan</td>\n      <td>1975</td>\n      <td>0.5 [0.2-1.1]</td>\n      <td>Both sexes</td>\n    </tr>\n    <tr>\n      <th>1</th>\n      <td>1</td>\n      <td>Afghanistan</td>\n      <td>1975</td>\n      <td>0.2 [0.0-0.6]</td>\n      <td>Male</td>\n    </tr>\n    <tr>\n      <th>2</th>\n      <td>2</td>\n      <td>Afghanistan</td>\n      <td>1975</td>\n      <td>0.8 [0.2-2.0]</td>\n      <td>Female</td>\n    </tr>\n    <tr>\n      <th>3</th>\n      <td>3</td>\n      <td>Afghanistan</td>\n      <td>1976</td>\n      <td>0.5 [0.2-1.1]</td>\n      <td>Both sexes</td>\n    </tr>\n    <tr>\n      <th>4</th>\n      <td>4</td>\n      <td>Afghanistan</td>\n      <td>1976</td>\n      <td>0.2 [0.0-0.7]</td>\n      <td>Male</td>\n    </tr>\n    <tr>\n      <th>...</th>\n      <td>...</td>\n      <td>...</td>\n      <td>...</td>\n      <td>...</td>\n      <td>...</td>\n    </tr>\n    <tr>\n      <th>24565</th>\n      <td>24565</td>\n      <td>Zimbabwe</td>\n      <td>2015</td>\n      <td>4.5 [2.4-7.6]</td>\n      <td>Male</td>\n    </tr>\n    <tr>\n      <th>24566</th>\n      <td>24566</td>\n      <td>Zimbabwe</td>\n      <td>2015</td>\n      <td>24.8 [18.9-31.3]</td>\n      <td>Female</td>\n    </tr>\n    <tr>\n      <th>24567</th>\n      <td>24567</td>\n      <td>Zimbabwe</td>\n      <td>2016</td>\n      <td>15.5 [12.0-19.2]</td>\n      <td>Both sexes</td>\n    </tr>\n    <tr>\n      <th>24568</th>\n      <td>24568</td>\n      <td>Zimbabwe</td>\n      <td>2016</td>\n      <td>4.7 [2.5-8.0]</td>\n      <td>Male</td>\n    </tr>\n    <tr>\n      <th>24569</th>\n      <td>24569</td>\n      <td>Zimbabwe</td>\n      <td>2016</td>\n      <td>25.3 [19.1-32.0]</td>\n      <td>Female</td>\n    </tr>\n  </tbody>\n</table>\n<p>24570 rows × 5 columns</p>\n</div>"
     },
     "metadata": {},
     "execution_count": 14
    }
   ],
   "source": [
    "obesity_df"
   ]
  },
  {
   "cell_type": "code",
   "execution_count": 15,
   "metadata": {},
   "outputs": [],
   "source": [
    "obesity_df = obesity_df.drop(columns=['Unnamed: 0'])"
   ]
  },
  {
   "cell_type": "code",
   "execution_count": 16,
   "metadata": {},
   "outputs": [],
   "source": [
    "obesity_df.rename(columns={'Obesity (%)' : 'Obesity_percentage'}, inplace=True)"
   ]
  },
  {
   "cell_type": "code",
   "execution_count": 17,
   "metadata": {},
   "outputs": [],
   "source": [
    "obesity_df['Obesity_percentage'] = obesity_df['Obesity_percentage'].apply(lambda x: (x.split()[0]))"
   ]
  },
  {
   "cell_type": "code",
   "execution_count": 18,
   "metadata": {},
   "outputs": [],
   "source": [
    "clean_df = obesity_df[obesity_df[\"Obesity_percentage\"] != \"No\"]"
   ]
  },
  {
   "cell_type": "code",
   "execution_count": 19,
   "metadata": {},
   "outputs": [
    {
     "output_type": "stream",
     "name": "stdout",
     "text": "<class 'pandas.core.frame.DataFrame'>\nInt64Index: 24066 entries, 0 to 24569\nData columns (total 4 columns):\n #   Column              Non-Null Count  Dtype \n---  ------              --------------  ----- \n 0   Country             24066 non-null  object\n 1   Year                24066 non-null  int64 \n 2   Obesity_percentage  24066 non-null  object\n 3   Sex                 24066 non-null  object\ndtypes: int64(1), object(3)\nmemory usage: 940.1+ KB\n"
    }
   ],
   "source": [
    "clean_df.info()"
   ]
  },
  {
   "cell_type": "code",
   "execution_count": 20,
   "metadata": {},
   "outputs": [],
   "source": [
    "clean_df['Obesity_percentage'] = clean_df['Obesity_percentage'].apply(lambda x: float(x))"
   ]
  },
  {
   "cell_type": "code",
   "execution_count": 21,
   "metadata": {},
   "outputs": [
    {
     "output_type": "execute_result",
     "data": {
      "text/plain": "       Country  Year  Obesity_percentage         Sex\n0  Afghanistan  1975                 0.5  Both sexes\n1  Afghanistan  1975                 0.2        Male\n2  Afghanistan  1975                 0.8      Female\n3  Afghanistan  1976                 0.5  Both sexes\n4  Afghanistan  1976                 0.2        Male",
      "text/html": "<div>\n<style scoped>\n    .dataframe tbody tr th:only-of-type {\n        vertical-align: middle;\n    }\n\n    .dataframe tbody tr th {\n        vertical-align: top;\n    }\n\n    .dataframe thead th {\n        text-align: right;\n    }\n</style>\n<table border=\"1\" class=\"dataframe\">\n  <thead>\n    <tr style=\"text-align: right;\">\n      <th></th>\n      <th>Country</th>\n      <th>Year</th>\n      <th>Obesity_percentage</th>\n      <th>Sex</th>\n    </tr>\n  </thead>\n  <tbody>\n    <tr>\n      <th>0</th>\n      <td>Afghanistan</td>\n      <td>1975</td>\n      <td>0.5</td>\n      <td>Both sexes</td>\n    </tr>\n    <tr>\n      <th>1</th>\n      <td>Afghanistan</td>\n      <td>1975</td>\n      <td>0.2</td>\n      <td>Male</td>\n    </tr>\n    <tr>\n      <th>2</th>\n      <td>Afghanistan</td>\n      <td>1975</td>\n      <td>0.8</td>\n      <td>Female</td>\n    </tr>\n    <tr>\n      <th>3</th>\n      <td>Afghanistan</td>\n      <td>1976</td>\n      <td>0.5</td>\n      <td>Both sexes</td>\n    </tr>\n    <tr>\n      <th>4</th>\n      <td>Afghanistan</td>\n      <td>1976</td>\n      <td>0.2</td>\n      <td>Male</td>\n    </tr>\n  </tbody>\n</table>\n</div>"
     },
     "metadata": {},
     "execution_count": 21
    }
   ],
   "source": [
    "clean_df.head()"
   ]
  },
  {
   "cell_type": "code",
   "execution_count": 22,
   "metadata": {},
   "outputs": [],
   "source": [
    "clean_df = clean_df.loc[clean_df['Sex'] == 'Both sexes']"
   ]
  },
  {
   "cell_type": "code",
   "execution_count": 23,
   "metadata": {},
   "outputs": [
    {
     "output_type": "execute_result",
     "data": {
      "text/plain": "        Country  Year  Obesity_percentage         Sex\n0   Afghanistan  1975                 0.5  Both sexes\n3   Afghanistan  1976                 0.5  Both sexes\n6   Afghanistan  1977                 0.6  Both sexes\n9   Afghanistan  1978                 0.6  Both sexes\n12  Afghanistan  1979                 0.6  Both sexes",
      "text/html": "<div>\n<style scoped>\n    .dataframe tbody tr th:only-of-type {\n        vertical-align: middle;\n    }\n\n    .dataframe tbody tr th {\n        vertical-align: top;\n    }\n\n    .dataframe thead th {\n        text-align: right;\n    }\n</style>\n<table border=\"1\" class=\"dataframe\">\n  <thead>\n    <tr style=\"text-align: right;\">\n      <th></th>\n      <th>Country</th>\n      <th>Year</th>\n      <th>Obesity_percentage</th>\n      <th>Sex</th>\n    </tr>\n  </thead>\n  <tbody>\n    <tr>\n      <th>0</th>\n      <td>Afghanistan</td>\n      <td>1975</td>\n      <td>0.5</td>\n      <td>Both sexes</td>\n    </tr>\n    <tr>\n      <th>3</th>\n      <td>Afghanistan</td>\n      <td>1976</td>\n      <td>0.5</td>\n      <td>Both sexes</td>\n    </tr>\n    <tr>\n      <th>6</th>\n      <td>Afghanistan</td>\n      <td>1977</td>\n      <td>0.6</td>\n      <td>Both sexes</td>\n    </tr>\n    <tr>\n      <th>9</th>\n      <td>Afghanistan</td>\n      <td>1978</td>\n      <td>0.6</td>\n      <td>Both sexes</td>\n    </tr>\n    <tr>\n      <th>12</th>\n      <td>Afghanistan</td>\n      <td>1979</td>\n      <td>0.6</td>\n      <td>Both sexes</td>\n    </tr>\n  </tbody>\n</table>\n</div>"
     },
     "metadata": {},
     "execution_count": 23
    }
   ],
   "source": [
    "clean_df.head()"
   ]
  },
  {
   "cell_type": "code",
   "execution_count": 26,
   "metadata": {},
   "outputs": [
    {
     "output_type": "execute_result",
     "data": {
      "text/plain": "191"
     },
     "metadata": {},
     "execution_count": 26
    }
   ],
   "source": [
    "clean_df['Country'].nunique()"
   ]
  },
  {
   "cell_type": "code",
   "execution_count": 27,
   "metadata": {},
   "outputs": [
    {
     "output_type": "execute_result",
     "data": {
      "text/plain": "252"
     },
     "metadata": {},
     "execution_count": 27
    }
   ],
   "source": [
    "gdp['Country Name'].nunique()"
   ]
  },
  {
   "cell_type": "code",
   "execution_count": 28,
   "metadata": {},
   "outputs": [],
   "source": [
    "gdp.rename(columns = {\"Country Name\" : \"Country\"}, inplace = True)"
   ]
  },
  {
   "cell_type": "code",
   "execution_count": 29,
   "metadata": {},
   "outputs": [
    {
     "output_type": "execute_result",
     "data": {
      "text/plain": "                Country Country Code variable         value\n2           Afghanistan          AFG     1960  5.377778e+08\n11            Australia          AUS     1960  1.856759e+10\n12              Austria          AUT     1960  6.592694e+09\n14              Burundi          BDI     1960  1.960000e+08\n15              Belgium          BEL     1960  1.165872e+10\n...                 ...          ...      ...           ...\n14778             Samoa          WSM     2015  7.610379e+08\n14780      South Africa          ZAF     2015  3.127980e+11\n14781  Congo, Dem. Rep.          COD     2015  3.523774e+10\n14782            Zambia          ZMB     2015  2.120156e+10\n14783          Zimbabwe          ZWE     2015  1.389294e+10\n\n[11214 rows x 4 columns]",
      "text/html": "<div>\n<style scoped>\n    .dataframe tbody tr th:only-of-type {\n        vertical-align: middle;\n    }\n\n    .dataframe tbody tr th {\n        vertical-align: top;\n    }\n\n    .dataframe thead th {\n        text-align: right;\n    }\n</style>\n<table border=\"1\" class=\"dataframe\">\n  <thead>\n    <tr style=\"text-align: right;\">\n      <th></th>\n      <th>Country</th>\n      <th>Country Code</th>\n      <th>variable</th>\n      <th>value</th>\n    </tr>\n  </thead>\n  <tbody>\n    <tr>\n      <th>2</th>\n      <td>Afghanistan</td>\n      <td>AFG</td>\n      <td>1960</td>\n      <td>5.377778e+08</td>\n    </tr>\n    <tr>\n      <th>11</th>\n      <td>Australia</td>\n      <td>AUS</td>\n      <td>1960</td>\n      <td>1.856759e+10</td>\n    </tr>\n    <tr>\n      <th>12</th>\n      <td>Austria</td>\n      <td>AUT</td>\n      <td>1960</td>\n      <td>6.592694e+09</td>\n    </tr>\n    <tr>\n      <th>14</th>\n      <td>Burundi</td>\n      <td>BDI</td>\n      <td>1960</td>\n      <td>1.960000e+08</td>\n    </tr>\n    <tr>\n      <th>15</th>\n      <td>Belgium</td>\n      <td>BEL</td>\n      <td>1960</td>\n      <td>1.165872e+10</td>\n    </tr>\n    <tr>\n      <th>...</th>\n      <td>...</td>\n      <td>...</td>\n      <td>...</td>\n      <td>...</td>\n    </tr>\n    <tr>\n      <th>14778</th>\n      <td>Samoa</td>\n      <td>WSM</td>\n      <td>2015</td>\n      <td>7.610379e+08</td>\n    </tr>\n    <tr>\n      <th>14780</th>\n      <td>South Africa</td>\n      <td>ZAF</td>\n      <td>2015</td>\n      <td>3.127980e+11</td>\n    </tr>\n    <tr>\n      <th>14781</th>\n      <td>Congo, Dem. Rep.</td>\n      <td>COD</td>\n      <td>2015</td>\n      <td>3.523774e+10</td>\n    </tr>\n    <tr>\n      <th>14782</th>\n      <td>Zambia</td>\n      <td>ZMB</td>\n      <td>2015</td>\n      <td>2.120156e+10</td>\n    </tr>\n    <tr>\n      <th>14783</th>\n      <td>Zimbabwe</td>\n      <td>ZWE</td>\n      <td>2015</td>\n      <td>1.389294e+10</td>\n    </tr>\n  </tbody>\n</table>\n<p>11214 rows × 4 columns</p>\n</div>"
     },
     "metadata": {},
     "execution_count": 29
    }
   ],
   "source": [
    "gdp"
   ]
  },
  {
   "cell_type": "code",
   "execution_count": 69,
   "metadata": {},
   "outputs": [
    {
     "output_type": "execute_result",
     "data": {
      "text/plain": "2        1960\n11       1960\n12       1960\n14       1960\n15       1960\n         ... \n14778    2015\n14780    2015\n14781    2015\n14782    2015\n14783    2015\nName: variable, Length: 11214, dtype: object"
     },
     "metadata": {},
     "execution_count": 69
    }
   ],
   "source": [
    "gdp['variable'].dropna()"
   ]
  },
  {
   "cell_type": "code",
   "execution_count": 71,
   "metadata": {},
   "outputs": [
    {
     "output_type": "execute_result",
     "data": {
      "text/plain": "array(['1960', '1961', '1962', '1963', '1964', '1965', '1966', '1967',\n       '1968', '1969', '1970', '1971', '1972', '1973', '1974', '1975',\n       '1976', '1977', '1978', '1979', '1980', '1981', '1982', '1983',\n       '1984', '1985', '1986', '1987', '1988', '1989', '1990', '1991',\n       '1992', '1993', '1994', '1995', '1996', '1997', '1998', '1999',\n       '2000', '2001', '2002', '2003', '2004', '2005', '2006', '2007',\n       '2008', '2009', '2010', '2011', '2012', '2013', '2014', '2015'],\n      dtype=object)"
     },
     "metadata": {},
     "execution_count": 71
    }
   ],
   "source": [
    "gdp['variable'].unique()"
   ]
  },
  {
   "cell_type": "code",
   "execution_count": 75,
   "metadata": {},
   "outputs": [],
   "source": [
    "gdp['variable'] = gdp['variable'].astype(int)"
   ]
  },
  {
   "cell_type": "code",
   "execution_count": 76,
   "metadata": {},
   "outputs": [],
   "source": [
    "cleaned_gdp = gdp.loc[gdp['variable'] >= 1975]"
   ]
  },
  {
   "cell_type": "code",
   "execution_count": 78,
   "metadata": {},
   "outputs": [
    {
     "output_type": "execute_result",
     "data": {
      "text/plain": "                    Country Country Code  variable         value\n3961                Andorra          AND      1975  2.201129e+08\n3962            Afghanistan          AFG      1975  2.366667e+09\n3965             Arab World          ARB      1975  1.156690e+11\n3966   United Arab Emirates          ARE      1975  1.472067e+10\n3967              Argentina          ARG      1975  5.243865e+10\n...                     ...          ...       ...           ...\n14778                 Samoa          WSM      2015  7.610379e+08\n14780          South Africa          ZAF      2015  3.127980e+11\n14781      Congo, Dem. Rep.          COD      2015  3.523774e+10\n14782                Zambia          ZMB      2015  2.120156e+10\n14783              Zimbabwe          ZWE      2015  1.389294e+10\n\n[8964 rows x 4 columns]",
      "text/html": "<div>\n<style scoped>\n    .dataframe tbody tr th:only-of-type {\n        vertical-align: middle;\n    }\n\n    .dataframe tbody tr th {\n        vertical-align: top;\n    }\n\n    .dataframe thead th {\n        text-align: right;\n    }\n</style>\n<table border=\"1\" class=\"dataframe\">\n  <thead>\n    <tr style=\"text-align: right;\">\n      <th></th>\n      <th>Country</th>\n      <th>Country Code</th>\n      <th>variable</th>\n      <th>value</th>\n    </tr>\n  </thead>\n  <tbody>\n    <tr>\n      <th>3961</th>\n      <td>Andorra</td>\n      <td>AND</td>\n      <td>1975</td>\n      <td>2.201129e+08</td>\n    </tr>\n    <tr>\n      <th>3962</th>\n      <td>Afghanistan</td>\n      <td>AFG</td>\n      <td>1975</td>\n      <td>2.366667e+09</td>\n    </tr>\n    <tr>\n      <th>3965</th>\n      <td>Arab World</td>\n      <td>ARB</td>\n      <td>1975</td>\n      <td>1.156690e+11</td>\n    </tr>\n    <tr>\n      <th>3966</th>\n      <td>United Arab Emirates</td>\n      <td>ARE</td>\n      <td>1975</td>\n      <td>1.472067e+10</td>\n    </tr>\n    <tr>\n      <th>3967</th>\n      <td>Argentina</td>\n      <td>ARG</td>\n      <td>1975</td>\n      <td>5.243865e+10</td>\n    </tr>\n    <tr>\n      <th>...</th>\n      <td>...</td>\n      <td>...</td>\n      <td>...</td>\n      <td>...</td>\n    </tr>\n    <tr>\n      <th>14778</th>\n      <td>Samoa</td>\n      <td>WSM</td>\n      <td>2015</td>\n      <td>7.610379e+08</td>\n    </tr>\n    <tr>\n      <th>14780</th>\n      <td>South Africa</td>\n      <td>ZAF</td>\n      <td>2015</td>\n      <td>3.127980e+11</td>\n    </tr>\n    <tr>\n      <th>14781</th>\n      <td>Congo, Dem. Rep.</td>\n      <td>COD</td>\n      <td>2015</td>\n      <td>3.523774e+10</td>\n    </tr>\n    <tr>\n      <th>14782</th>\n      <td>Zambia</td>\n      <td>ZMB</td>\n      <td>2015</td>\n      <td>2.120156e+10</td>\n    </tr>\n    <tr>\n      <th>14783</th>\n      <td>Zimbabwe</td>\n      <td>ZWE</td>\n      <td>2015</td>\n      <td>1.389294e+10</td>\n    </tr>\n  </tbody>\n</table>\n<p>8964 rows × 4 columns</p>\n</div>"
     },
     "metadata": {},
     "execution_count": 78
    }
   ],
   "source": [
    "cleaned_gdp"
   ]
  },
  {
   "cell_type": "code",
   "execution_count": 79,
   "metadata": {},
   "outputs": [],
   "source": [
    "cleaned_gdp = cleaned_gdp.copy()"
   ]
  },
  {
   "cell_type": "code",
   "execution_count": 83,
   "metadata": {},
   "outputs": [],
   "source": [
    "cleaned_gdp.rename(columns = {\"variable\" : \"Year\"}, inplace = True)"
   ]
  },
  {
   "cell_type": "code",
   "execution_count": 84,
   "metadata": {},
   "outputs": [],
   "source": [
    "clean_df = clean_df.copy()"
   ]
  },
  {
   "cell_type": "code",
   "execution_count": 85,
   "metadata": {},
   "outputs": [],
   "source": [
    "merged_df = clean_df.merge(cleaned_gdp, on=[\"Country\", \"Year\"], how=\"right\")"
   ]
  },
  {
   "cell_type": "code",
   "execution_count": 86,
   "metadata": {},
   "outputs": [
    {
     "output_type": "execute_result",
     "data": {
      "text/plain": "                             Country  Year  Obesity_percentage         Sex  \\\n0                        Afghanistan  1975                 0.5  Both sexes   \n1                        Afghanistan  1976                 0.5  Both sexes   \n2                        Afghanistan  1977                 0.6  Both sexes   \n3                        Afghanistan  1978                 0.6  Both sexes   \n4                        Afghanistan  1979                 0.6  Both sexes   \n...                              ...   ...                 ...         ...   \n8959  St. Vincent and the Grenadines  2015                 NaN         NaN   \n8960                         Vietnam  2015                 NaN         NaN   \n8961              West Bank and Gaza  2015                 NaN         NaN   \n8962                           World  2015                 NaN         NaN   \n8963                Congo, Dem. Rep.  2015                 NaN         NaN   \n\n     Country Code         value  \n0             AFG  2.366667e+09  \n1             AFG  2.555556e+09  \n2             AFG  2.953333e+09  \n3             AFG  3.300000e+09  \n4             AFG  3.697940e+09  \n...           ...           ...  \n8959          VCT  7.513733e+08  \n8960          VNM  1.935990e+11  \n8961          PSE  1.267740e+10  \n8962          WLD  7.343360e+13  \n8963          COD  3.523774e+10  \n\n[8964 rows x 6 columns]",
      "text/html": "<div>\n<style scoped>\n    .dataframe tbody tr th:only-of-type {\n        vertical-align: middle;\n    }\n\n    .dataframe tbody tr th {\n        vertical-align: top;\n    }\n\n    .dataframe thead th {\n        text-align: right;\n    }\n</style>\n<table border=\"1\" class=\"dataframe\">\n  <thead>\n    <tr style=\"text-align: right;\">\n      <th></th>\n      <th>Country</th>\n      <th>Year</th>\n      <th>Obesity_percentage</th>\n      <th>Sex</th>\n      <th>Country Code</th>\n      <th>value</th>\n    </tr>\n  </thead>\n  <tbody>\n    <tr>\n      <th>0</th>\n      <td>Afghanistan</td>\n      <td>1975</td>\n      <td>0.5</td>\n      <td>Both sexes</td>\n      <td>AFG</td>\n      <td>2.366667e+09</td>\n    </tr>\n    <tr>\n      <th>1</th>\n      <td>Afghanistan</td>\n      <td>1976</td>\n      <td>0.5</td>\n      <td>Both sexes</td>\n      <td>AFG</td>\n      <td>2.555556e+09</td>\n    </tr>\n    <tr>\n      <th>2</th>\n      <td>Afghanistan</td>\n      <td>1977</td>\n      <td>0.6</td>\n      <td>Both sexes</td>\n      <td>AFG</td>\n      <td>2.953333e+09</td>\n    </tr>\n    <tr>\n      <th>3</th>\n      <td>Afghanistan</td>\n      <td>1978</td>\n      <td>0.6</td>\n      <td>Both sexes</td>\n      <td>AFG</td>\n      <td>3.300000e+09</td>\n    </tr>\n    <tr>\n      <th>4</th>\n      <td>Afghanistan</td>\n      <td>1979</td>\n      <td>0.6</td>\n      <td>Both sexes</td>\n      <td>AFG</td>\n      <td>3.697940e+09</td>\n    </tr>\n    <tr>\n      <th>...</th>\n      <td>...</td>\n      <td>...</td>\n      <td>...</td>\n      <td>...</td>\n      <td>...</td>\n      <td>...</td>\n    </tr>\n    <tr>\n      <th>8959</th>\n      <td>St. Vincent and the Grenadines</td>\n      <td>2015</td>\n      <td>NaN</td>\n      <td>NaN</td>\n      <td>VCT</td>\n      <td>7.513733e+08</td>\n    </tr>\n    <tr>\n      <th>8960</th>\n      <td>Vietnam</td>\n      <td>2015</td>\n      <td>NaN</td>\n      <td>NaN</td>\n      <td>VNM</td>\n      <td>1.935990e+11</td>\n    </tr>\n    <tr>\n      <th>8961</th>\n      <td>West Bank and Gaza</td>\n      <td>2015</td>\n      <td>NaN</td>\n      <td>NaN</td>\n      <td>PSE</td>\n      <td>1.267740e+10</td>\n    </tr>\n    <tr>\n      <th>8962</th>\n      <td>World</td>\n      <td>2015</td>\n      <td>NaN</td>\n      <td>NaN</td>\n      <td>WLD</td>\n      <td>7.343360e+13</td>\n    </tr>\n    <tr>\n      <th>8963</th>\n      <td>Congo, Dem. Rep.</td>\n      <td>2015</td>\n      <td>NaN</td>\n      <td>NaN</td>\n      <td>COD</td>\n      <td>3.523774e+10</td>\n    </tr>\n  </tbody>\n</table>\n<p>8964 rows × 6 columns</p>\n</div>"
     },
     "metadata": {},
     "execution_count": 86
    }
   ],
   "source": [
    "merged_df"
   ]
  },
  {
   "cell_type": "code",
   "execution_count": null,
   "metadata": {},
   "outputs": [],
   "source": []
  }
 ],
 "metadata": {
  "kernelspec": {
   "display_name": "Python 3",
   "language": "python",
   "name": "python3"
  },
  "language_info": {
   "codemirror_mode": {
    "name": "ipython",
    "version": 3
   },
   "file_extension": ".py",
   "mimetype": "text/x-python",
   "name": "python",
   "nbconvert_exporter": "python",
   "pygments_lexer": "ipython3",
   "version": "3.7.4-final"
  }
 },
 "nbformat": 4,
 "nbformat_minor": 2
}