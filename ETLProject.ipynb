{
 "cells": [
  {
   "cell_type": "code",
   "execution_count": 2,
   "metadata": {},
   "outputs": [],
   "source": [
    "import matplotlib.pyplot as plt\n",
    "import pandas as pd\n",
    "import numpy as np\n",
    "import requests\n",
    "import time\n",
    "import scipy.stats as stats\n",
    "import datetime\n",
    "import json\n",
    "\n"
   ]
  },
  {
   "cell_type": "code",
   "execution_count": 3,
   "metadata": {},
   "outputs": [],
   "source": [
    "data = pd.read_csv(\"Country GDP by year in USD 1960 to 2015.csv\")"
   ]
  },
  {
   "cell_type": "code",
   "execution_count": 4,
   "metadata": {},
   "outputs": [],
   "source": [
    "data = data.melt(col_level=0, id_vars=[\"Country Name\", \"Country Code\"])"
   ]
  },
  {
   "cell_type": "code",
   "execution_count": 5,
   "metadata": {},
   "outputs": [
    {
     "output_type": "execute_result",
     "data": {
      "text/plain": "           Country Name Country Code variable         value\n0                 Aruba          ABW     1960           NaN\n1               Andorra          AND     1960           NaN\n2           Afghanistan          AFG     1960  5.377778e+08\n3                Angola          AGO     1960           NaN\n4               Albania          ALB     1960           NaN\n...                 ...          ...      ...           ...\n14779       Yemen, Rep.          YEM     2015           NaN\n14780      South Africa          ZAF     2015  3.127980e+11\n14781  Congo, Dem. Rep.          COD     2015  3.523774e+10\n14782            Zambia          ZMB     2015  2.120156e+10\n14783          Zimbabwe          ZWE     2015  1.389294e+10\n\n[14784 rows x 4 columns]",
      "text/html": "<div>\n<style scoped>\n    .dataframe tbody tr th:only-of-type {\n        vertical-align: middle;\n    }\n\n    .dataframe tbody tr th {\n        vertical-align: top;\n    }\n\n    .dataframe thead th {\n        text-align: right;\n    }\n</style>\n<table border=\"1\" class=\"dataframe\">\n  <thead>\n    <tr style=\"text-align: right;\">\n      <th></th>\n      <th>Country Name</th>\n      <th>Country Code</th>\n      <th>variable</th>\n      <th>value</th>\n    </tr>\n  </thead>\n  <tbody>\n    <tr>\n      <th>0</th>\n      <td>Aruba</td>\n      <td>ABW</td>\n      <td>1960</td>\n      <td>NaN</td>\n    </tr>\n    <tr>\n      <th>1</th>\n      <td>Andorra</td>\n      <td>AND</td>\n      <td>1960</td>\n      <td>NaN</td>\n    </tr>\n    <tr>\n      <th>2</th>\n      <td>Afghanistan</td>\n      <td>AFG</td>\n      <td>1960</td>\n      <td>5.377778e+08</td>\n    </tr>\n    <tr>\n      <th>3</th>\n      <td>Angola</td>\n      <td>AGO</td>\n      <td>1960</td>\n      <td>NaN</td>\n    </tr>\n    <tr>\n      <th>4</th>\n      <td>Albania</td>\n      <td>ALB</td>\n      <td>1960</td>\n      <td>NaN</td>\n    </tr>\n    <tr>\n      <th>...</th>\n      <td>...</td>\n      <td>...</td>\n      <td>...</td>\n      <td>...</td>\n    </tr>\n    <tr>\n      <th>14779</th>\n      <td>Yemen, Rep.</td>\n      <td>YEM</td>\n      <td>2015</td>\n      <td>NaN</td>\n    </tr>\n    <tr>\n      <th>14780</th>\n      <td>South Africa</td>\n      <td>ZAF</td>\n      <td>2015</td>\n      <td>3.127980e+11</td>\n    </tr>\n    <tr>\n      <th>14781</th>\n      <td>Congo, Dem. Rep.</td>\n      <td>COD</td>\n      <td>2015</td>\n      <td>3.523774e+10</td>\n    </tr>\n    <tr>\n      <th>14782</th>\n      <td>Zambia</td>\n      <td>ZMB</td>\n      <td>2015</td>\n      <td>2.120156e+10</td>\n    </tr>\n    <tr>\n      <th>14783</th>\n      <td>Zimbabwe</td>\n      <td>ZWE</td>\n      <td>2015</td>\n      <td>1.389294e+10</td>\n    </tr>\n  </tbody>\n</table>\n<p>14784 rows × 4 columns</p>\n</div>"
     },
     "metadata": {},
     "execution_count": 5
    }
   ],
   "source": [
    "data"
   ]
  },
  {
   "cell_type": "code",
   "execution_count": 6,
   "metadata": {},
   "outputs": [],
   "source": [
    "data = data[data['value'].notna()]"
   ]
  },
  {
   "cell_type": "code",
   "execution_count": 12,
   "metadata": {},
   "outputs": [
    {
     "output_type": "execute_result",
     "data": {
      "text/plain": "array(['Afghanistan', 'Australia', 'Austria', 'Burundi', 'Belgium',\n       'Benin', 'Burkina Faso', 'Bangladesh', 'Bahamas, The', 'Belize',\n       'Bermuda', 'Bolivia', 'Brazil', 'Botswana',\n       'Central African Republic', 'Canada', 'Switzerland', 'Chile',\n       'China', \"Cote d'Ivoire\", 'Cameroon', 'Congo, Rep.', 'Colombia',\n       'Costa Rica', 'Caribbean small states', 'Denmark',\n       'Dominican Republic', 'Algeria',\n       'East Asia & Pacific (excluding high income)',\n       'Early-demographic dividend', 'East Asia & Pacific',\n       'Europe & Central Asia', 'Ecuador', 'Euro area', 'Spain',\n       'European Union', 'Finland', 'Fiji', 'France', 'Gabon',\n       'United Kingdom', 'Ghana', 'Greece', 'Guatemala', 'Guyana',\n       'High income', 'Hong Kong SAR, China', 'Honduras',\n       'Heavily indebted poor countries (HIPC)', 'IBRD only',\n       'IDA & IBRD total', 'IDA total', 'IDA blend', 'IDA only', 'India',\n       'Ireland', 'Iran, Islamic Rep.', 'Iraq', 'Iceland', 'Israel',\n       'Italy', 'Jamaica', 'Japan', 'Kenya', 'Cambodia',\n       'St. Kitts and Nevis', 'Korea, Rep.',\n       'Latin America & Caribbean (excluding high income)', 'Liberia',\n       'Latin America & Caribbean', 'Sri Lanka', 'Lower middle income',\n       'Low & middle income', 'Lesotho', 'Late-demographic dividend',\n       'Luxembourg', 'Morocco', 'Madagascar', 'Mexico', 'Middle income',\n       'Mauritania', 'Malawi', 'Malaysia', 'North America', 'Niger',\n       'Nigeria', 'Nicaragua', 'Netherlands', 'Norway', 'Nepal',\n       'New Zealand', 'OECD members', 'Pakistan', 'Panama', 'Peru',\n       'Philippines', 'Papua New Guinea', 'Pre-demographic dividend',\n       'Puerto Rico', 'Portugal', 'Post-demographic dividend', 'Rwanda',\n       'South Asia', 'Sudan', 'Senegal', 'Singapore', 'Sierra Leone',\n       'Sub-Saharan Africa (excluding high income)', 'Sub-Saharan Africa',\n       'Suriname', 'Sweden', 'Swaziland', 'Seychelles',\n       'Syrian Arab Republic', 'Chad',\n       'East Asia & Pacific (IDA & IBRD countries)', 'Togo', 'Thailand',\n       'Latin America & the Caribbean (IDA & IBRD countries)',\n       'South Asia (IDA & IBRD)',\n       'Sub-Saharan Africa (IDA & IBRD countries)', 'Trinidad and Tobago',\n       'Turkey', 'Uganda', 'Upper middle income', 'Uruguay',\n       'United States', 'St. Vincent and the Grenadines', 'Venezuela, RB',\n       'Virgin Islands (U.S.)', 'World', 'South Africa',\n       'Congo, Dem. Rep.', 'Zambia', 'Zimbabwe', 'Argentina',\n       'Equatorial Guinea', 'Brunei Darussalam', 'Egypt, Arab Rep.',\n       'Jordan', 'Kuwait', 'New Caledonia', 'Oman', 'Paraguay',\n       'French Polynesia', 'El Salvador', 'Tunisia', 'Gambia, The',\n       'Indonesia', 'Mali', 'Solomon Islands', 'Arab World',\n       'Middle East & North Africa', 'Saudi Arabia', 'Andorra', 'Cuba',\n       'Germany', 'Guinea-Bissau', 'Greenland', 'Kiribati',\n       'Liechtenstein', 'Monaco', 'Malta', 'Qatar', 'Small states',\n       'United Arab Emirates', 'Cyprus', 'Other small states',\n       'Pacific island small states', 'Tonga', 'Mauritius',\n       'Antigua and Barbuda', 'Dominica', 'Grenada', 'St. Lucia',\n       'Vanuatu', 'Bulgaria', 'Bahrain', 'Barbados', 'Bhutan', 'Comoros',\n       'Cabo Verde', 'Maldives', 'Mozambique', 'Namibia', 'Ethiopia',\n       'Marshall Islands', 'Mongolia', 'Macao SAR, China', 'Samoa',\n       'Micronesia, Fed. Sts.', 'Albania', 'Lao PDR', 'Angola',\n       'Djibouti', 'Least developed countries: UN classification',\n       'Vietnam', 'Guinea', 'Romania', 'Turkmenistan', 'Ukraine',\n       'Lebanon', 'Low income', 'Tanzania',\n       'Europe & Central Asia (excluding high income)',\n       'Russian Federation',\n       'Europe & Central Asia (IDA & IBRD countries)', 'Armenia',\n       'Azerbaijan', 'Belarus', 'Central Europe and the Baltics',\n       'Czech Republic', 'Georgia', 'Kazakhstan', 'Kyrgyz Republic',\n       'Libya', 'Moldova', 'Macedonia, FYR', 'Palau', 'Poland',\n       'Slovak Republic', 'Tajikistan', 'Tuvalu', 'Uzbekistan',\n       'Yemen, Rep.', 'Haiti', 'Hungary', 'Eritrea',\n       'Middle East & North Africa (excluding high income)',\n       'Middle East & North Africa (IDA & IBRD countries)', 'Aruba',\n       'Bosnia and Herzegovina', 'West Bank and Gaza', 'Estonia',\n       'Croatia', 'Isle of Man', 'Lithuania', 'Latvia', 'Serbia',\n       'Slovenia', 'Cayman Islands', 'Channel Islands', 'Faroe Islands',\n       'San Marino', 'Fragile and conflict affected situations', 'Kosovo',\n       'Montenegro', 'Timor-Leste', 'Sao Tome and Principe',\n       'South Sudan', 'Myanmar', 'Somalia'], dtype=object)"
     },
     "metadata": {},
     "execution_count": 12
    }
   ],
   "source": [
    "data['Country Name'].unique()"
   ]
  },
  {
   "cell_type": "code",
   "execution_count": 8,
   "metadata": {},
   "outputs": [],
   "source": [
    "gdp = data"
   ]
  },
  {
   "cell_type": "code",
   "execution_count": 9,
   "metadata": {},
   "outputs": [],
   "source": [
    "csv = \"obesity-cleaned.csv\""
   ]
  },
  {
   "cell_type": "code",
   "execution_count": 10,
   "metadata": {},
   "outputs": [],
   "source": [
    "obesity_df = pd.read_csv(csv)"
   ]
  },
  {
   "cell_type": "code",
   "execution_count": 11,
   "metadata": {},
   "outputs": [
    {
     "output_type": "execute_result",
     "data": {
      "text/plain": "array(['Afghanistan', 'Albania', 'Algeria', 'Andorra', 'Angola',\n       'Antigua and Barbuda', 'Argentina', 'Armenia', 'Australia',\n       'Austria', 'Azerbaijan', 'Bahamas', 'Bahrain', 'Bangladesh',\n       'Barbados', 'Belarus', 'Belgium', 'Belize', 'Benin', 'Bhutan',\n       'Bolivia (Plurinational State of)', 'Bosnia and Herzegovina',\n       'Botswana', 'Brazil', 'Brunei Darussalam', 'Bulgaria',\n       'Burkina Faso', 'Burundi', 'Cabo Verde', 'Cambodia', 'Cameroon',\n       'Canada', 'Central African Republic', 'Chad', 'Chile', 'China',\n       'Colombia', 'Comoros', 'Congo', 'Cook Islands', 'Costa Rica',\n       'Croatia', 'Cuba', 'Cyprus', 'Czechia', \"Côte d'Ivoire\",\n       \"Democratic People's Republic of Korea\",\n       'Democratic Republic of the Congo', 'Denmark', 'Djibouti',\n       'Dominica', 'Dominican Republic', 'Ecuador', 'Egypt',\n       'El Salvador', 'Equatorial Guinea', 'Eritrea', 'Estonia',\n       'Eswatini', 'Ethiopia', 'Fiji', 'Finland', 'France', 'Gabon',\n       'Gambia', 'Georgia', 'Germany', 'Ghana', 'Greece', 'Grenada',\n       'Guatemala', 'Guinea', 'Guinea-Bissau', 'Guyana', 'Haiti',\n       'Honduras', 'Hungary', 'Iceland', 'India', 'Indonesia',\n       'Iran (Islamic Republic of)', 'Iraq', 'Ireland', 'Israel', 'Italy',\n       'Jamaica', 'Japan', 'Jordan', 'Kazakhstan', 'Kenya', 'Kiribati',\n       'Kuwait', 'Kyrgyzstan', \"Lao People's Democratic Republic\",\n       'Latvia', 'Lebanon', 'Lesotho', 'Liberia', 'Libya', 'Lithuania',\n       'Luxembourg', 'Madagascar', 'Malawi', 'Malaysia', 'Maldives',\n       'Mali', 'Malta', 'Marshall Islands', 'Mauritania', 'Mauritius',\n       'Mexico', 'Micronesia (Federated States of)', 'Monaco', 'Mongolia',\n       'Montenegro', 'Morocco', 'Mozambique', 'Myanmar', 'Namibia',\n       'Nauru', 'Nepal', 'Netherlands', 'New Zealand', 'Nicaragua',\n       'Niger', 'Nigeria', 'Niue', 'Norway', 'Oman', 'Pakistan', 'Palau',\n       'Panama', 'Papua New Guinea', 'Paraguay', 'Peru', 'Philippines',\n       'Poland', 'Portugal', 'Qatar', 'Republic of Korea',\n       'Republic of Moldova', 'Republic of North Macedonia', 'Romania',\n       'Russian Federation', 'Rwanda', 'Saint Kitts and Nevis',\n       'Saint Lucia', 'Saint Vincent and the Grenadines', 'Samoa',\n       'San Marino', 'Sao Tome and Principe', 'Saudi Arabia', 'Senegal',\n       'Serbia', 'Seychelles', 'Sierra Leone', 'Singapore', 'Slovakia',\n       'Slovenia', 'Solomon Islands', 'Somalia', 'South Africa',\n       'South Sudan', 'Spain', 'Sri Lanka', 'Sudan', 'Sudan (former)',\n       'Suriname', 'Sweden', 'Switzerland', 'Syrian Arab Republic',\n       'Tajikistan', 'Thailand', 'Timor-Leste', 'Togo', 'Tonga',\n       'Trinidad and Tobago', 'Tunisia', 'Turkey', 'Turkmenistan',\n       'Tuvalu', 'Uganda', 'Ukraine', 'United Arab Emirates',\n       'United Kingdom of Great Britain and Northern Ireland',\n       'United Republic of Tanzania', 'United States of America',\n       'Uruguay', 'Uzbekistan', 'Vanuatu',\n       'Venezuela (Bolivarian Republic of)', 'Viet Nam', 'Yemen',\n       'Zambia', 'Zimbabwe'], dtype=object)"
     },
     "metadata": {},
     "execution_count": 11
    }
   ],
   "source": [
    "obesity_df['Country'].unique()"
   ]
  },
  {
   "cell_type": "code",
   "execution_count": 19,
   "metadata": {},
   "outputs": [
    {
     "output_type": "execute_result",
     "data": {
      "text/plain": "array(['Afghanistan', 'Albania', 'Algeria', 'Andorra', 'Angola',\n       'Antigua and Barbuda', 'Argentina', 'Armenia', 'Australia',\n       'Austria', 'Azerbaijan', 'Bahamas, The', 'Bahrain', 'Bangladesh',\n       'Barbados', 'Belarus', 'Belgium', 'Belize', 'Benin', 'Bhutan',\n       'Bolivia', 'Bosnia and Herzegovina', 'Botswana', 'Brazil',\n       'Brunei Darussalam', 'Bulgaria', 'Burkina Faso', 'Burundi',\n       'Cabo Verde', 'Cambodia', 'Cameroon', 'Canada',\n       'Central African Republic', 'Chad', 'Chile', 'China', 'Colombia',\n       'Comoros', 'Congo, Rep', 'Cook Islands', 'Costa Rica', 'Croatia',\n       'Cuba', 'Cyprus', 'Czechia', \"Côte d'Ivoire\",\n       \"Democratic People's Republic of Korea\",\n       'Democratic Republic of the Congo', 'Denmark', 'Djibouti',\n       'Dominica', 'Dominican Republic', 'Ecuador', 'Egypt, Arab Rep.',\n       'El Salvador', 'Equatorial Guinea', 'Eritrea', 'Estonia',\n       'Eswatini', 'Ethiopia', 'Fiji', 'Finland', 'France', 'Gabon',\n       'Gambia, The', 'Georgia', 'Germany', 'Ghana', 'Greece', 'Grenada',\n       'Guatemala', 'Guinea', 'Guinea-Bissau', 'Guyana', 'Haiti',\n       'Honduras', 'Hungary', 'Iceland', 'India', 'Indonesia',\n       'Iran, Islamic Rep.', 'Iraq', 'Ireland', 'Israel', 'Italy',\n       'Jamaica', 'Japan', 'Jordan', 'Kazakhstan', 'Kenya', 'Kiribati',\n       'Kuwait', 'Kyrgyzstan', \"Lao People's Democratic Republic\",\n       'Latvia', 'Lebanon', 'Lesotho', 'Liberia', 'Libya', 'Lithuania',\n       'Luxembourg', 'Madagascar', 'Malawi', 'Malaysia', 'Maldives',\n       'Mali', 'Malta', 'Marshall Islands', 'Mauritania', 'Mauritius',\n       'Mexico', 'Micronesia (Federated States of)', 'Monaco', 'Mongolia',\n       'Montenegro', 'Morocco', 'Mozambique', 'Myanmar', 'Namibia',\n       'Nauru', 'Nepal', 'Netherlands', 'New Zealand', 'Nicaragua',\n       'Niger', 'Nigeria', 'Niue', 'Norway', 'Oman', 'Pakistan', 'Palau',\n       'Panama', 'Papua New Guinea', 'Paraguay', 'Peru', 'Philippines',\n       'Poland', 'Portugal', 'Qatar', 'Korea, Rep.',\n       'Republic of Moldova', 'Republic of North Macedonia', 'Romania',\n       'Russian Federation', 'Rwanda', 'St. Kitts and Nevis', 'St. Lucia',\n       'Saint Vincent and the Grenadines', 'Samoa', 'San Marino',\n       'Sao Tome and Principe', 'Saudi Arabia', 'Senegal', 'Serbia',\n       'Seychelles', 'Sierra Leone', 'Singapore', 'Slovakia', 'Slovenia',\n       'Solomon Islands', 'Somalia', 'South Africa', 'South Sudan',\n       'Spain', 'Sri Lanka', 'Sudan', 'Sudan (former)', 'Suriname',\n       'Sweden', 'Switzerland', 'Syrian Arab Republic', 'Tajikistan',\n       'Thailand', 'Timor-Leste', 'Togo', 'Tonga', 'Trinidad and Tobago',\n       'Tunisia', 'Turkey', 'Turkmenistan', 'Tuvalu', 'Uganda', 'Ukraine',\n       'United Arab Emirates', 'United Kingdom',\n       'United Republic of Tanzania', 'United States', 'Uruguay',\n       'Uzbekistan', 'Vanuatu', 'Venezuela (Bolivarian Republic of)',\n       'Viet Nam', 'Yemen', 'Zambia', 'Zimbabwe'], dtype=object)"
     },
     "metadata": {},
     "execution_count": 19
    }
   ],
   "source": [
    "obesity_df['Country'].replace(to_replace=['Bolivia (Plurinational State of)','Bahamas','Congo','United Kingdom of Great Britain and Northern Ireland','Iran (Islamic Republic of)','Saint Kitts and Nevis','Republic of Korea','United States of America','Egypt','Gambia','Saint Lucia'], value=['Bolivia','Bahamas, The','Congo, Rep','United Kingdom','Iran, Islamic Rep.','St. Kitts and Nevis','Korea, Rep.','United States','Egypt, Arab Rep.','Gambia, The','St. Lucia'], inplace=True)\n",
    "obesity_df['Country'].unique()\n",
    "\n"
   ]
  },
  {
   "cell_type": "code",
   "execution_count": 20,
   "metadata": {},
   "outputs": [],
   "source": [
    "obesity_df = obesity_df.drop(columns=['Unnamed: 0'])"
   ]
  },
  {
   "cell_type": "code",
   "execution_count": 21,
   "metadata": {},
   "outputs": [],
   "source": [
    "obesity_df.rename(columns={'Obesity (%)' : 'Obesity_percentage'}, inplace=True)"
   ]
  },
  {
   "cell_type": "code",
   "execution_count": 22,
   "metadata": {},
   "outputs": [],
   "source": [
    "obesity_df['Obesity_percentage'] = obesity_df['Obesity_percentage'].apply(lambda x: (x.split()[0]))"
   ]
  },
  {
   "cell_type": "code",
   "execution_count": 23,
   "metadata": {},
   "outputs": [],
   "source": [
    "clean_df = obesity_df[obesity_df[\"Obesity_percentage\"] != \"No\"]"
   ]
  },
  {
   "cell_type": "code",
   "execution_count": 24,
   "metadata": {},
   "outputs": [
    {
     "output_type": "stream",
     "name": "stdout",
     "text": "<class 'pandas.core.frame.DataFrame'>\nInt64Index: 24066 entries, 0 to 24569\nData columns (total 4 columns):\n #   Column              Non-Null Count  Dtype \n---  ------              --------------  ----- \n 0   Country             24066 non-null  object\n 1   Year                24066 non-null  int64 \n 2   Obesity_percentage  24066 non-null  object\n 3   Sex                 24066 non-null  object\ndtypes: int64(1), object(3)\nmemory usage: 940.1+ KB\n"
    }
   ],
   "source": [
    "clean_df.info()"
   ]
  },
  {
   "cell_type": "code",
   "execution_count": 25,
   "metadata": {},
   "outputs": [],
   "source": [
    "clean_df['Obesity_percentage'] = clean_df['Obesity_percentage'].apply(lambda x: float(x))"
   ]
  },
  {
   "cell_type": "code",
   "execution_count": 26,
   "metadata": {},
   "outputs": [
    {
     "output_type": "execute_result",
     "data": {
      "text/plain": "       Country  Year  Obesity_percentage         Sex\n0  Afghanistan  1975                 0.5  Both sexes\n1  Afghanistan  1975                 0.2        Male\n2  Afghanistan  1975                 0.8      Female\n3  Afghanistan  1976                 0.5  Both sexes\n4  Afghanistan  1976                 0.2        Male",
      "text/html": "<div>\n<style scoped>\n    .dataframe tbody tr th:only-of-type {\n        vertical-align: middle;\n    }\n\n    .dataframe tbody tr th {\n        vertical-align: top;\n    }\n\n    .dataframe thead th {\n        text-align: right;\n    }\n</style>\n<table border=\"1\" class=\"dataframe\">\n  <thead>\n    <tr style=\"text-align: right;\">\n      <th></th>\n      <th>Country</th>\n      <th>Year</th>\n      <th>Obesity_percentage</th>\n      <th>Sex</th>\n    </tr>\n  </thead>\n  <tbody>\n    <tr>\n      <th>0</th>\n      <td>Afghanistan</td>\n      <td>1975</td>\n      <td>0.5</td>\n      <td>Both sexes</td>\n    </tr>\n    <tr>\n      <th>1</th>\n      <td>Afghanistan</td>\n      <td>1975</td>\n      <td>0.2</td>\n      <td>Male</td>\n    </tr>\n    <tr>\n      <th>2</th>\n      <td>Afghanistan</td>\n      <td>1975</td>\n      <td>0.8</td>\n      <td>Female</td>\n    </tr>\n    <tr>\n      <th>3</th>\n      <td>Afghanistan</td>\n      <td>1976</td>\n      <td>0.5</td>\n      <td>Both sexes</td>\n    </tr>\n    <tr>\n      <th>4</th>\n      <td>Afghanistan</td>\n      <td>1976</td>\n      <td>0.2</td>\n      <td>Male</td>\n    </tr>\n  </tbody>\n</table>\n</div>"
     },
     "metadata": {},
     "execution_count": 26
    }
   ],
   "source": [
    "clean_df.head()"
   ]
  },
  {
   "cell_type": "code",
   "execution_count": 27,
   "metadata": {},
   "outputs": [],
   "source": [
    "clean_df = clean_df.loc[clean_df['Sex'] == 'Both sexes']"
   ]
  },
  {
   "cell_type": "code",
   "execution_count": 28,
   "metadata": {},
   "outputs": [
    {
     "output_type": "execute_result",
     "data": {
      "text/plain": "        Country  Year  Obesity_percentage         Sex\n0   Afghanistan  1975                 0.5  Both sexes\n3   Afghanistan  1976                 0.5  Both sexes\n6   Afghanistan  1977                 0.6  Both sexes\n9   Afghanistan  1978                 0.6  Both sexes\n12  Afghanistan  1979                 0.6  Both sexes",
      "text/html": "<div>\n<style scoped>\n    .dataframe tbody tr th:only-of-type {\n        vertical-align: middle;\n    }\n\n    .dataframe tbody tr th {\n        vertical-align: top;\n    }\n\n    .dataframe thead th {\n        text-align: right;\n    }\n</style>\n<table border=\"1\" class=\"dataframe\">\n  <thead>\n    <tr style=\"text-align: right;\">\n      <th></th>\n      <th>Country</th>\n      <th>Year</th>\n      <th>Obesity_percentage</th>\n      <th>Sex</th>\n    </tr>\n  </thead>\n  <tbody>\n    <tr>\n      <th>0</th>\n      <td>Afghanistan</td>\n      <td>1975</td>\n      <td>0.5</td>\n      <td>Both sexes</td>\n    </tr>\n    <tr>\n      <th>3</th>\n      <td>Afghanistan</td>\n      <td>1976</td>\n      <td>0.5</td>\n      <td>Both sexes</td>\n    </tr>\n    <tr>\n      <th>6</th>\n      <td>Afghanistan</td>\n      <td>1977</td>\n      <td>0.6</td>\n      <td>Both sexes</td>\n    </tr>\n    <tr>\n      <th>9</th>\n      <td>Afghanistan</td>\n      <td>1978</td>\n      <td>0.6</td>\n      <td>Both sexes</td>\n    </tr>\n    <tr>\n      <th>12</th>\n      <td>Afghanistan</td>\n      <td>1979</td>\n      <td>0.6</td>\n      <td>Both sexes</td>\n    </tr>\n  </tbody>\n</table>\n</div>"
     },
     "metadata": {},
     "execution_count": 28
    }
   ],
   "source": [
    "clean_df.head()"
   ]
  },
  {
   "cell_type": "code",
   "execution_count": 29,
   "metadata": {},
   "outputs": [
    {
     "output_type": "execute_result",
     "data": {
      "text/plain": "191"
     },
     "metadata": {},
     "execution_count": 29
    }
   ],
   "source": [
    "clean_df['Country'].nunique()"
   ]
  },
  {
   "cell_type": "code",
   "execution_count": 30,
   "metadata": {},
   "outputs": [
    {
     "output_type": "execute_result",
     "data": {
      "text/plain": "252"
     },
     "metadata": {},
     "execution_count": 30
    }
   ],
   "source": [
    "gdp['Country Name'].nunique()"
   ]
  },
  {
   "cell_type": "code",
   "execution_count": 31,
   "metadata": {},
   "outputs": [],
   "source": [
    "gdp.rename(columns = {\"Country Name\" : \"Country\"}, inplace = True)"
   ]
  },
  {
   "cell_type": "code",
   "execution_count": 32,
   "metadata": {},
   "outputs": [
    {
     "output_type": "execute_result",
     "data": {
      "text/plain": "                Country Country Code variable         value\n2           Afghanistan          AFG     1960  5.377778e+08\n11            Australia          AUS     1960  1.856759e+10\n12              Austria          AUT     1960  6.592694e+09\n14              Burundi          BDI     1960  1.960000e+08\n15              Belgium          BEL     1960  1.165872e+10\n...                 ...          ...      ...           ...\n14778             Samoa          WSM     2015  7.610379e+08\n14780      South Africa          ZAF     2015  3.127980e+11\n14781  Congo, Dem. Rep.          COD     2015  3.523774e+10\n14782            Zambia          ZMB     2015  2.120156e+10\n14783          Zimbabwe          ZWE     2015  1.389294e+10\n\n[11214 rows x 4 columns]",
      "text/html": "<div>\n<style scoped>\n    .dataframe tbody tr th:only-of-type {\n        vertical-align: middle;\n    }\n\n    .dataframe tbody tr th {\n        vertical-align: top;\n    }\n\n    .dataframe thead th {\n        text-align: right;\n    }\n</style>\n<table border=\"1\" class=\"dataframe\">\n  <thead>\n    <tr style=\"text-align: right;\">\n      <th></th>\n      <th>Country</th>\n      <th>Country Code</th>\n      <th>variable</th>\n      <th>value</th>\n    </tr>\n  </thead>\n  <tbody>\n    <tr>\n      <th>2</th>\n      <td>Afghanistan</td>\n      <td>AFG</td>\n      <td>1960</td>\n      <td>5.377778e+08</td>\n    </tr>\n    <tr>\n      <th>11</th>\n      <td>Australia</td>\n      <td>AUS</td>\n      <td>1960</td>\n      <td>1.856759e+10</td>\n    </tr>\n    <tr>\n      <th>12</th>\n      <td>Austria</td>\n      <td>AUT</td>\n      <td>1960</td>\n      <td>6.592694e+09</td>\n    </tr>\n    <tr>\n      <th>14</th>\n      <td>Burundi</td>\n      <td>BDI</td>\n      <td>1960</td>\n      <td>1.960000e+08</td>\n    </tr>\n    <tr>\n      <th>15</th>\n      <td>Belgium</td>\n      <td>BEL</td>\n      <td>1960</td>\n      <td>1.165872e+10</td>\n    </tr>\n    <tr>\n      <th>...</th>\n      <td>...</td>\n      <td>...</td>\n      <td>...</td>\n      <td>...</td>\n    </tr>\n    <tr>\n      <th>14778</th>\n      <td>Samoa</td>\n      <td>WSM</td>\n      <td>2015</td>\n      <td>7.610379e+08</td>\n    </tr>\n    <tr>\n      <th>14780</th>\n      <td>South Africa</td>\n      <td>ZAF</td>\n      <td>2015</td>\n      <td>3.127980e+11</td>\n    </tr>\n    <tr>\n      <th>14781</th>\n      <td>Congo, Dem. Rep.</td>\n      <td>COD</td>\n      <td>2015</td>\n      <td>3.523774e+10</td>\n    </tr>\n    <tr>\n      <th>14782</th>\n      <td>Zambia</td>\n      <td>ZMB</td>\n      <td>2015</td>\n      <td>2.120156e+10</td>\n    </tr>\n    <tr>\n      <th>14783</th>\n      <td>Zimbabwe</td>\n      <td>ZWE</td>\n      <td>2015</td>\n      <td>1.389294e+10</td>\n    </tr>\n  </tbody>\n</table>\n<p>11214 rows × 4 columns</p>\n</div>"
     },
     "metadata": {},
     "execution_count": 32
    }
   ],
   "source": [
    "gdp"
   ]
  },
  {
   "cell_type": "code",
   "execution_count": 33,
   "metadata": {},
   "outputs": [
    {
     "output_type": "execute_result",
     "data": {
      "text/plain": "2        1960\n11       1960\n12       1960\n14       1960\n15       1960\n         ... \n14778    2015\n14780    2015\n14781    2015\n14782    2015\n14783    2015\nName: variable, Length: 11214, dtype: object"
     },
     "metadata": {},
     "execution_count": 33
    }
   ],
   "source": [
    "gdp['variable'].dropna()"
   ]
  },
  {
   "cell_type": "code",
   "execution_count": 34,
   "metadata": {},
   "outputs": [
    {
     "output_type": "execute_result",
     "data": {
      "text/plain": "array(['1960', '1961', '1962', '1963', '1964', '1965', '1966', '1967',\n       '1968', '1969', '1970', '1971', '1972', '1973', '1974', '1975',\n       '1976', '1977', '1978', '1979', '1980', '1981', '1982', '1983',\n       '1984', '1985', '1986', '1987', '1988', '1989', '1990', '1991',\n       '1992', '1993', '1994', '1995', '1996', '1997', '1998', '1999',\n       '2000', '2001', '2002', '2003', '2004', '2005', '2006', '2007',\n       '2008', '2009', '2010', '2011', '2012', '2013', '2014', '2015'],\n      dtype=object)"
     },
     "metadata": {},
     "execution_count": 34
    }
   ],
   "source": [
    "gdp['variable'].unique()"
   ]
  },
  {
   "cell_type": "code",
   "execution_count": 35,
   "metadata": {},
   "outputs": [],
   "source": [
    "gdp['variable'] = gdp['variable'].astype(int)"
   ]
  },
  {
   "cell_type": "code",
   "execution_count": 36,
   "metadata": {},
   "outputs": [],
   "source": [
    "cleaned_gdp = gdp.loc[gdp['variable'] >= 1975]"
   ]
  },
  {
   "cell_type": "code",
   "execution_count": 37,
   "metadata": {},
   "outputs": [
    {
     "output_type": "execute_result",
     "data": {
      "text/plain": "                    Country Country Code  variable         value\n3961                Andorra          AND      1975  2.201129e+08\n3962            Afghanistan          AFG      1975  2.366667e+09\n3965             Arab World          ARB      1975  1.156690e+11\n3966   United Arab Emirates          ARE      1975  1.472067e+10\n3967              Argentina          ARG      1975  5.243865e+10\n...                     ...          ...       ...           ...\n14778                 Samoa          WSM      2015  7.610379e+08\n14780          South Africa          ZAF      2015  3.127980e+11\n14781      Congo, Dem. Rep.          COD      2015  3.523774e+10\n14782                Zambia          ZMB      2015  2.120156e+10\n14783              Zimbabwe          ZWE      2015  1.389294e+10\n\n[8964 rows x 4 columns]",
      "text/html": "<div>\n<style scoped>\n    .dataframe tbody tr th:only-of-type {\n        vertical-align: middle;\n    }\n\n    .dataframe tbody tr th {\n        vertical-align: top;\n    }\n\n    .dataframe thead th {\n        text-align: right;\n    }\n</style>\n<table border=\"1\" class=\"dataframe\">\n  <thead>\n    <tr style=\"text-align: right;\">\n      <th></th>\n      <th>Country</th>\n      <th>Country Code</th>\n      <th>variable</th>\n      <th>value</th>\n    </tr>\n  </thead>\n  <tbody>\n    <tr>\n      <th>3961</th>\n      <td>Andorra</td>\n      <td>AND</td>\n      <td>1975</td>\n      <td>2.201129e+08</td>\n    </tr>\n    <tr>\n      <th>3962</th>\n      <td>Afghanistan</td>\n      <td>AFG</td>\n      <td>1975</td>\n      <td>2.366667e+09</td>\n    </tr>\n    <tr>\n      <th>3965</th>\n      <td>Arab World</td>\n      <td>ARB</td>\n      <td>1975</td>\n      <td>1.156690e+11</td>\n    </tr>\n    <tr>\n      <th>3966</th>\n      <td>United Arab Emirates</td>\n      <td>ARE</td>\n      <td>1975</td>\n      <td>1.472067e+10</td>\n    </tr>\n    <tr>\n      <th>3967</th>\n      <td>Argentina</td>\n      <td>ARG</td>\n      <td>1975</td>\n      <td>5.243865e+10</td>\n    </tr>\n    <tr>\n      <th>...</th>\n      <td>...</td>\n      <td>...</td>\n      <td>...</td>\n      <td>...</td>\n    </tr>\n    <tr>\n      <th>14778</th>\n      <td>Samoa</td>\n      <td>WSM</td>\n      <td>2015</td>\n      <td>7.610379e+08</td>\n    </tr>\n    <tr>\n      <th>14780</th>\n      <td>South Africa</td>\n      <td>ZAF</td>\n      <td>2015</td>\n      <td>3.127980e+11</td>\n    </tr>\n    <tr>\n      <th>14781</th>\n      <td>Congo, Dem. Rep.</td>\n      <td>COD</td>\n      <td>2015</td>\n      <td>3.523774e+10</td>\n    </tr>\n    <tr>\n      <th>14782</th>\n      <td>Zambia</td>\n      <td>ZMB</td>\n      <td>2015</td>\n      <td>2.120156e+10</td>\n    </tr>\n    <tr>\n      <th>14783</th>\n      <td>Zimbabwe</td>\n      <td>ZWE</td>\n      <td>2015</td>\n      <td>1.389294e+10</td>\n    </tr>\n  </tbody>\n</table>\n<p>8964 rows × 4 columns</p>\n</div>"
     },
     "metadata": {},
     "execution_count": 37
    }
   ],
   "source": [
    "cleaned_gdp"
   ]
  },
  {
   "cell_type": "code",
   "execution_count": 38,
   "metadata": {},
   "outputs": [],
   "source": [
    "cleaned_gdp = cleaned_gdp.copy()"
   ]
  },
  {
   "cell_type": "code",
   "execution_count": 39,
   "metadata": {},
   "outputs": [],
   "source": [
    "cleaned_gdp.rename(columns = {\"variable\" : \"Year\"}, inplace = True)"
   ]
  },
  {
   "cell_type": "code",
   "execution_count": 40,
   "metadata": {},
   "outputs": [],
   "source": [
    "clean_df = clean_df.copy()"
   ]
  },
  {
   "cell_type": "code",
   "execution_count": 41,
   "metadata": {},
   "outputs": [],
   "source": [
    "merged_df = clean_df.merge(cleaned_gdp, on=[\"Country\", \"Year\"], how=\"right\")"
   ]
  },
  {
   "cell_type": "code",
   "execution_count": 42,
   "metadata": {},
   "outputs": [
    {
     "output_type": "execute_result",
     "data": {
      "text/plain": "                             Country  Year  Obesity_percentage         Sex  \\\n0                        Afghanistan  1975                 0.5  Both sexes   \n1                        Afghanistan  1976                 0.5  Both sexes   \n2                        Afghanistan  1977                 0.6  Both sexes   \n3                        Afghanistan  1978                 0.6  Both sexes   \n4                        Afghanistan  1979                 0.6  Both sexes   \n...                              ...   ...                 ...         ...   \n8959  St. Vincent and the Grenadines  2015                 NaN         NaN   \n8960                         Vietnam  2015                 NaN         NaN   \n8961              West Bank and Gaza  2015                 NaN         NaN   \n8962                           World  2015                 NaN         NaN   \n8963                Congo, Dem. Rep.  2015                 NaN         NaN   \n\n     Country Code         value  \n0             AFG  2.366667e+09  \n1             AFG  2.555556e+09  \n2             AFG  2.953333e+09  \n3             AFG  3.300000e+09  \n4             AFG  3.697940e+09  \n...           ...           ...  \n8959          VCT  7.513733e+08  \n8960          VNM  1.935990e+11  \n8961          PSE  1.267740e+10  \n8962          WLD  7.343360e+13  \n8963          COD  3.523774e+10  \n\n[8964 rows x 6 columns]",
      "text/html": "<div>\n<style scoped>\n    .dataframe tbody tr th:only-of-type {\n        vertical-align: middle;\n    }\n\n    .dataframe tbody tr th {\n        vertical-align: top;\n    }\n\n    .dataframe thead th {\n        text-align: right;\n    }\n</style>\n<table border=\"1\" class=\"dataframe\">\n  <thead>\n    <tr style=\"text-align: right;\">\n      <th></th>\n      <th>Country</th>\n      <th>Year</th>\n      <th>Obesity_percentage</th>\n      <th>Sex</th>\n      <th>Country Code</th>\n      <th>value</th>\n    </tr>\n  </thead>\n  <tbody>\n    <tr>\n      <th>0</th>\n      <td>Afghanistan</td>\n      <td>1975</td>\n      <td>0.5</td>\n      <td>Both sexes</td>\n      <td>AFG</td>\n      <td>2.366667e+09</td>\n    </tr>\n    <tr>\n      <th>1</th>\n      <td>Afghanistan</td>\n      <td>1976</td>\n      <td>0.5</td>\n      <td>Both sexes</td>\n      <td>AFG</td>\n      <td>2.555556e+09</td>\n    </tr>\n    <tr>\n      <th>2</th>\n      <td>Afghanistan</td>\n      <td>1977</td>\n      <td>0.6</td>\n      <td>Both sexes</td>\n      <td>AFG</td>\n      <td>2.953333e+09</td>\n    </tr>\n    <tr>\n      <th>3</th>\n      <td>Afghanistan</td>\n      <td>1978</td>\n      <td>0.6</td>\n      <td>Both sexes</td>\n      <td>AFG</td>\n      <td>3.300000e+09</td>\n    </tr>\n    <tr>\n      <th>4</th>\n      <td>Afghanistan</td>\n      <td>1979</td>\n      <td>0.6</td>\n      <td>Both sexes</td>\n      <td>AFG</td>\n      <td>3.697940e+09</td>\n    </tr>\n    <tr>\n      <th>...</th>\n      <td>...</td>\n      <td>...</td>\n      <td>...</td>\n      <td>...</td>\n      <td>...</td>\n      <td>...</td>\n    </tr>\n    <tr>\n      <th>8959</th>\n      <td>St. Vincent and the Grenadines</td>\n      <td>2015</td>\n      <td>NaN</td>\n      <td>NaN</td>\n      <td>VCT</td>\n      <td>7.513733e+08</td>\n    </tr>\n    <tr>\n      <th>8960</th>\n      <td>Vietnam</td>\n      <td>2015</td>\n      <td>NaN</td>\n      <td>NaN</td>\n      <td>VNM</td>\n      <td>1.935990e+11</td>\n    </tr>\n    <tr>\n      <th>8961</th>\n      <td>West Bank and Gaza</td>\n      <td>2015</td>\n      <td>NaN</td>\n      <td>NaN</td>\n      <td>PSE</td>\n      <td>1.267740e+10</td>\n    </tr>\n    <tr>\n      <th>8962</th>\n      <td>World</td>\n      <td>2015</td>\n      <td>NaN</td>\n      <td>NaN</td>\n      <td>WLD</td>\n      <td>7.343360e+13</td>\n    </tr>\n    <tr>\n      <th>8963</th>\n      <td>Congo, Dem. Rep.</td>\n      <td>2015</td>\n      <td>NaN</td>\n      <td>NaN</td>\n      <td>COD</td>\n      <td>3.523774e+10</td>\n    </tr>\n  </tbody>\n</table>\n<p>8964 rows × 6 columns</p>\n</div>"
     },
     "metadata": {},
     "execution_count": 42
    }
   ],
   "source": [
    "merged_df"
   ]
  },
  {
   "cell_type": "code",
   "execution_count": 43,
   "metadata": {},
   "outputs": [],
   "source": [
    "GDP = merged_df.copy()"
   ]
  },
  {
   "cell_type": "code",
   "execution_count": 44,
   "metadata": {},
   "outputs": [
    {
     "output_type": "execute_result",
     "data": {
      "text/plain": "       Country  Year Country Code         value\n0  Afghanistan  1975          AFG  2.366667e+09\n1  Afghanistan  1976          AFG  2.555556e+09\n2  Afghanistan  1977          AFG  2.953333e+09\n3  Afghanistan  1978          AFG  3.300000e+09\n4  Afghanistan  1979          AFG  3.697940e+09",
      "text/html": "<div>\n<style scoped>\n    .dataframe tbody tr th:only-of-type {\n        vertical-align: middle;\n    }\n\n    .dataframe tbody tr th {\n        vertical-align: top;\n    }\n\n    .dataframe thead th {\n        text-align: right;\n    }\n</style>\n<table border=\"1\" class=\"dataframe\">\n  <thead>\n    <tr style=\"text-align: right;\">\n      <th></th>\n      <th>Country</th>\n      <th>Year</th>\n      <th>Country Code</th>\n      <th>value</th>\n    </tr>\n  </thead>\n  <tbody>\n    <tr>\n      <th>0</th>\n      <td>Afghanistan</td>\n      <td>1975</td>\n      <td>AFG</td>\n      <td>2.366667e+09</td>\n    </tr>\n    <tr>\n      <th>1</th>\n      <td>Afghanistan</td>\n      <td>1976</td>\n      <td>AFG</td>\n      <td>2.555556e+09</td>\n    </tr>\n    <tr>\n      <th>2</th>\n      <td>Afghanistan</td>\n      <td>1977</td>\n      <td>AFG</td>\n      <td>2.953333e+09</td>\n    </tr>\n    <tr>\n      <th>3</th>\n      <td>Afghanistan</td>\n      <td>1978</td>\n      <td>AFG</td>\n      <td>3.300000e+09</td>\n    </tr>\n    <tr>\n      <th>4</th>\n      <td>Afghanistan</td>\n      <td>1979</td>\n      <td>AFG</td>\n      <td>3.697940e+09</td>\n    </tr>\n  </tbody>\n</table>\n</div>"
     },
     "metadata": {},
     "execution_count": 44
    }
   ],
   "source": [
    "GDP = GDP.drop(['Obesity_percentage', 'Sex'],1)\n",
    "GDP.head()"
   ]
  },
  {
   "cell_type": "code",
   "execution_count": 45,
   "metadata": {},
   "outputs": [
    {
     "output_type": "execute_result",
     "data": {
      "text/plain": "       Country  Year  Obesity_percentage         Sex\n0  Afghanistan  1975                 0.5  Both sexes\n1  Afghanistan  1976                 0.5  Both sexes\n2  Afghanistan  1977                 0.6  Both sexes\n3  Afghanistan  1978                 0.6  Both sexes\n4  Afghanistan  1979                 0.6  Both sexes",
      "text/html": "<div>\n<style scoped>\n    .dataframe tbody tr th:only-of-type {\n        vertical-align: middle;\n    }\n\n    .dataframe tbody tr th {\n        vertical-align: top;\n    }\n\n    .dataframe thead th {\n        text-align: right;\n    }\n</style>\n<table border=\"1\" class=\"dataframe\">\n  <thead>\n    <tr style=\"text-align: right;\">\n      <th></th>\n      <th>Country</th>\n      <th>Year</th>\n      <th>Obesity_percentage</th>\n      <th>Sex</th>\n    </tr>\n  </thead>\n  <tbody>\n    <tr>\n      <th>0</th>\n      <td>Afghanistan</td>\n      <td>1975</td>\n      <td>0.5</td>\n      <td>Both sexes</td>\n    </tr>\n    <tr>\n      <th>1</th>\n      <td>Afghanistan</td>\n      <td>1976</td>\n      <td>0.5</td>\n      <td>Both sexes</td>\n    </tr>\n    <tr>\n      <th>2</th>\n      <td>Afghanistan</td>\n      <td>1977</td>\n      <td>0.6</td>\n      <td>Both sexes</td>\n    </tr>\n    <tr>\n      <th>3</th>\n      <td>Afghanistan</td>\n      <td>1978</td>\n      <td>0.6</td>\n      <td>Both sexes</td>\n    </tr>\n    <tr>\n      <th>4</th>\n      <td>Afghanistan</td>\n      <td>1979</td>\n      <td>0.6</td>\n      <td>Both sexes</td>\n    </tr>\n  </tbody>\n</table>\n</div>"
     },
     "metadata": {},
     "execution_count": 45
    }
   ],
   "source": [
    "Obesity_df = merged_df.copy()\n",
    "Obesity_df = Obesity_df.drop(['Country Code', 'value'],1)\n",
    "Obesity_df.head()"
   ]
  },
  {
   "cell_type": "code",
   "execution_count": 46,
   "metadata": {},
   "outputs": [],
   "source": [
    "GDP.to_csv('GDP.csv')\n",
    "Obesity_df.to_csv('Obesity.csv')"
   ]
  },
  {
   "cell_type": "code",
   "execution_count": null,
   "metadata": {},
   "outputs": [],
   "source": []
  }
 ],
 "metadata": {
  "kernelspec": {
   "display_name": "Python 3",
   "language": "python",
   "name": "python3"
  },
  "language_info": {
   "codemirror_mode": {
    "name": "ipython",
    "version": 3
   },
   "file_extension": ".py",
   "mimetype": "text/x-python",
   "name": "python",
   "nbconvert_exporter": "python",
   "pygments_lexer": "ipython3",
   "version": "3.7.6-final"
  }
 },
 "nbformat": 4,
 "nbformat_minor": 2
}